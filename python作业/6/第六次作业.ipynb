{
 "cells": [
  {
   "cell_type": "code",
   "execution_count": 1,
   "id": "63171bed",
   "metadata": {},
   "outputs": [],
   "source": [
    "#学号：2020217793 姓名：洪祎麟"
   ]
  },
  {
   "cell_type": "code",
   "execution_count": 2,
   "id": "1326c303",
   "metadata": {},
   "outputs": [],
   "source": [
    "#第一题"
   ]
  },
  {
   "cell_type": "code",
   "execution_count": 3,
   "id": "4c289718",
   "metadata": {},
   "outputs": [],
   "source": [
    "import csv,random,datetime\n",
    "with open(\"2020price.csv\",\"w\",newline=\"\") as fw:\n",
    "    csv_w=csv.writer(fw)\n",
    "    dates=datetime.date(2020,1,1)\n",
    "    money=100\n",
    "    csv_w.writerow(['日期','贸易额'])\n",
    "    for i in range(7):\n",
    "        csv_w.writerow([dates,money])\n",
    "        if i == 1:\n",
    "            dates=dates+datetime.timedelta(days=29)\n",
    "        elif i ==0 or i==2 or i==4 or i==6:\n",
    "            dates = dates + datetime.timedelta(days=31)\n",
    "        else:\n",
    "            dates = dates + datetime.timedelta(days=30)\n",
    "        money=money+random.randint(0,10)\n",
    "    csv_w.writerow([dates,150])\n",
    "    for i in range(3):\n",
    "\n",
    "        if i == 0 or i==2:\n",
    "            dates=dates+datetime.timedelta(days=31)\n",
    "        else:\n",
    "            dates = dates + datetime.timedelta(days=30)\n",
    "        csv_w.writerow([dates, money])\n",
    "        money=money-random.randint(0,10)\n",
    "    dates = dates + datetime.timedelta(days=30)\n",
    "    csv_w.writerow([dates,110])"
   ]
  },
  {
   "cell_type": "code",
   "execution_count": 4,
   "id": "88696c8b",
   "metadata": {},
   "outputs": [],
   "source": [
    "#第二题"
   ]
  },
  {
   "cell_type": "code",
   "execution_count": 5,
   "id": "0864d951",
   "metadata": {},
   "outputs": [],
   "source": [
    "#第一种方式\n",
    "with open(\"2020price.csv\",'r',encoding='gbk',newline='') as f1:\n",
    "    with open(\"file1.csv\",'w',encoding='gbk',newline='') as f2:\n",
    "        for line in f1.readlines():\n",
    "            f2.writelines(line)\n",
    "\n",
    "\n",
    "#第二种方式\n",
    "import csv\n",
    "with open(\"2020price.csv\",'r',encoding='gbk',newline='') as fp1:\n",
    "    with open(\"file2.csv\",'w',encoding='gbk',newline='') as fp2:\n",
    "        reader = csv.reader(fp1)\n",
    "        writer = csv.writer(fp2)\n",
    "        for line in reader:\n",
    "            writer.writerow(line)\n"
   ]
  },
  {
   "cell_type": "code",
   "execution_count": 6,
   "id": "3b68f2a1",
   "metadata": {},
   "outputs": [],
   "source": [
    "#第三题"
   ]
  },
  {
   "cell_type": "code",
   "execution_count": 7,
   "id": "3e067d44",
   "metadata": {},
   "outputs": [],
   "source": [
    "with open(\"photo1.jpg\",'rb') as f1:\n",
    "    with open(\"photo2.jpg\",'wb') as f2:\n",
    "        f2.write(f1.read())"
   ]
  },
  {
   "cell_type": "code",
   "execution_count": 8,
   "id": "5931444c",
   "metadata": {},
   "outputs": [],
   "source": [
    "#第四题"
   ]
  },
  {
   "cell_type": "code",
   "execution_count": 9,
   "id": "ac0caecf",
   "metadata": {},
   "outputs": [],
   "source": [
    "#学号：2020217793 姓名：洪祎麟\n",
    "import json\n",
    "xcdxk = [{'17级': [{'电信科一班': [{'姓名': '张三', '学号': '01', '成绩': '{’高数‘:’90‘,’英语‘:’90‘,’计算机‘:’90‘}'}, {'姓名': '李四', '学号': '02', '成绩': '{’高数‘:’89‘,’英语‘:’90‘,’计算机‘:’90‘}'}, {'姓名': '王五', '学号': '03', '成绩': '{’高数‘:’88‘,’英语‘:’90‘,’计算机‘:’90‘}'}]},\n",
    "                {'电信科二班': [{'姓名': '张三', '学号': '04', '成绩': '{’高数‘:’90‘,’英语‘:’90‘,’计算机‘:’90‘}'}, {'姓名': '李四', '学号': '05', '成绩': '{’高数‘:’89‘,’英语‘:’90‘,’计算机‘:’90‘}'}, {'姓名': '王五', '学号': '06', '成绩': '{’高数‘:’88‘,’英语‘:’90‘,’计算机‘:’90‘}'}]},\n",
    "                {'电信科三班': [{'姓名': '张三', '学号': '04', '成绩': '{’高数‘:’90‘,’英语‘:’90‘,’计算机‘:’90‘}'}, {'姓名': '李四', '学号': '05', '成绩': '{’高数‘:’89‘,’英语‘:’90‘,’计算机‘:’90‘}'}, {'姓名': '王五', '学号': '06', '成绩': '{’高数‘:’88‘,’英语‘:’90‘,’计算机‘:’90‘}'}]}]},\n",
    "        {'18级': [{'电信科一班': [{'姓名': '张三', '学号': '01', '成绩': '{’高数‘:’90‘,’英语‘:’90‘,’计算机‘:’90‘}'}, {'姓名': '李四', '学号': '02', '成绩': '{’高数‘:’89‘,’英语‘:’90‘,’计算机‘:’90‘}'}, {'姓名': '王五', '学号': '03', '成绩': '{’高数‘:’88‘,’英语‘:’90‘,’计算机‘:’90‘}'}]},\n",
    "                {'电信科二班': [{'姓名': '李四', '学号': '04', '成绩': '{’高数‘:’90‘,’英语‘:’90‘,’计算机‘:’90‘}'}, {'姓名': '李四', '学号': '05', '成绩': '{’高数‘:’89‘,’英语‘:’90‘,’计算机‘:’90‘}'}, {'姓名': '王五', '学号': '06', '成绩': '{’高数‘:’88‘,’英语‘:’90‘,’计算机‘:’90‘}'}]},\n",
    "                {'电信科三班': [{'姓名': '王五', '学号': '07', '成绩': '{’高数‘:’90‘,’英语‘:’90‘,’计算机‘:’90‘}'}, {'姓名': '李四', '学号': '08', '成绩': '{’高数‘:’89‘,’英语‘:’90‘,’计算机‘:’90‘}'}, {'姓名': '王五', '学号': '09', '成绩': '{’高数‘:’88‘,’英语‘:’90‘,’计算机‘:’90‘}'}]}]},\n",
    "        {'19级': [{'电信科一班': [{'姓名': '小明', '学号': '01', '成绩': '{’高数‘:’90‘,’英语‘:’90‘,’计算机‘:’90‘}'}, {'姓名': '李四', '学号': '02', '成绩': '{’高数‘:’89‘,’英语‘:’90‘,’计算机‘:’90‘}'}, {'姓名': '王五', '学号': '03', '成绩': '{’高数‘:’88‘,’英语‘:’90‘,’计算机‘:’90‘}'}]},\n",
    "                {'电信科二班': [{'姓名': '小红', '学号': '04', '成绩': '{’高数‘:’90‘,’英语‘:’90‘,’计算机‘:’90‘}'}, {'姓名': '李四', '学号': '05', '成绩': '{’高数‘:’89‘,’英语‘:’90‘,’计算机‘:’90‘}'}, {'姓名': '王五', '学号': '06', '成绩': '{’高数‘:’88‘,’英语‘:’90‘,’计算机‘:’90‘}'}]},\n",
    "                {'电信科三班': [{'姓名': '小张', '学号': '07', '成绩': '{’高数‘:’90‘,’英语‘:’90‘,’计算机‘:’90‘}'}, {'姓名': '李四', '学号': '08', '成绩': '{’高数‘:’89‘,’英语‘:’90‘,’计算机‘:’90‘}'}, {'姓名': '王五', '学号': '09', '成绩': '{’高数‘:’88‘,’英语‘:’90‘,’计算机‘:’90‘}'}]}]},\n",
    "        {'20级': [{'电信科一班': [{'姓名': '小王', '学号': '01', '成绩': '{’高数‘:’90‘,’英语‘:’90‘,’计算机‘:’90‘}'}, {'姓名': '李四', '学号': '02', '成绩': '{’高数‘:’89‘,’英语‘:’90‘,’计算机‘:’90‘}'}, {'姓名': '王五', '学号': '03', '成绩': '{’高数‘:’88‘,’英语‘:’90‘,’计算机‘:’90‘}'}]},\n",
    "                {'电信科二班': [{'姓名': '小李', '学号': '04', '成绩': '{’高数‘:’90‘,’英语‘:’90‘,’计算机‘:’90‘}'}, {'姓名': '李四', '学号': '05', '成绩': '{’高数‘:’89‘,’英语‘:’90‘,’计算机‘:’90‘}'}, {'姓名': '王五', '学号': '06', '成绩': '{’高数‘:’88‘,’英语‘:’90‘,’计算机‘:’90‘}'}]},\n",
    "                {'电信科三班': [{'姓名': '小兰', '学号': '07', '成绩': '{’高数‘:’90‘,’英语‘:’90‘,’计算机‘:’90‘}'}, {'姓名': '李四', '学号': '08', '成绩': '{’高数‘:’89‘,’英语‘:’90‘,’计算机‘:’90‘}'}, {'姓名': '王五', '学号': '09', '成绩': '{’高数‘:’88‘,’英语‘:’90‘,’计算机‘:’90‘}'}]}]}]\n",
    "with open(\"0604.json\",'w') as fp:\n",
    "    json.dump(xcdxk,fp,ensure_ascii=False)\n"
   ]
  },
  {
   "cell_type": "code",
   "execution_count": 10,
   "id": "82bbf939",
   "metadata": {},
   "outputs": [],
   "source": [
    "#第五题"
   ]
  },
  {
   "cell_type": "code",
   "execution_count": 11,
   "id": "cb922071",
   "metadata": {},
   "outputs": [
    {
     "name": "stdout",
     "output_type": "stream",
     "text": [
      "在该路径下，文件夹的总数量为76，文件的总数量为17099，文本文件的总数量为16，图片文件的总数量为16837。文本文件的文件名，创建时间，文件大小已经导入txtdata.csv中\n"
     ]
    }
   ],
   "source": [
    "import os,csv,time\n",
    "path = r'C:\\Users\\hyl\\Desktop'\n",
    "filefolderNum,fileNum,txtNum,pictureNum=0,0,0,0\n",
    "def visitDir(path):\n",
    "     global fileNum\n",
    "     global filefolderNum\n",
    "     global txtNum\n",
    "     global pictureNum\n",
    "     for lists in os.listdir(path):\n",
    "         sub_path = os.path.join(path, lists)\n",
    "         if os.path.isfile(sub_path):\n",
    "             fileNum = fileNum+1 #统计文件数量\n",
    "             l = os.path.splitext(sub_path)\n",
    "             if(l[1]=='.txt'):\n",
    "                 txtNum=txtNum+1\n",
    "                 csv.writer(fp).writerow([os.path.basename(sub_path), time.ctime(os.path.getctime(sub_path)), os.path.getsize(sub_path)])\n",
    "             elif(l[1]=='.jpg' or l[1]=='.png' or l[1] == '.gif' or l[1]=='.bmp'):\n",
    "                 pictureNum=pictureNum+1\n",
    "         elif os.path.isdir(sub_path):\n",
    "            filefolderNum= filefolderNum+1 #统计文件夹数量\n",
    "            visitDir(sub_path)\n",
    "\n",
    "with open(\"txtdata.csv\",'w',encoding='gbk',newline='') as fp:\n",
    "    csv.writer(fp).writerow(['文件名','创建时间','文件大小(单位:字节)'])\n",
    "    visitDir(path)\n",
    "print(\"在该路径下，文件夹的总数量为{a}，文件的总数量为{b}，文本文件的总数量为{c}，图片文件的总数量为{d}。文本文件的文件名，创建时间，文件大小已经导入txtdata.csv中\".format(a=filefolderNum,b=fileNum,c=txtNum,d=pictureNum))"
   ]
  }
 ],
 "metadata": {
  "kernelspec": {
   "display_name": "Python 3",
   "language": "python",
   "name": "python3"
  },
  "language_info": {
   "codemirror_mode": {
    "name": "ipython",
    "version": 3
   },
   "file_extension": ".py",
   "mimetype": "text/x-python",
   "name": "python",
   "nbconvert_exporter": "python",
   "pygments_lexer": "ipython3",
   "version": "3.9.1"
  }
 },
 "nbformat": 4,
 "nbformat_minor": 5
}
