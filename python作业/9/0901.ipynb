{
 "cells": [
  {
   "cell_type": "code",
   "execution_count": 1,
   "id": "e67ec9b9",
   "metadata": {},
   "outputs": [],
   "source": [
    "#姓名：洪祎麟 学号：2020217793  班级：电信科20-1班"
   ]
  },
  {
   "cell_type": "code",
   "execution_count": 2,
   "id": "eea52a02",
   "metadata": {},
   "outputs": [],
   "source": [
    "#第九次作业第一题"
   ]
  },
  {
   "cell_type": "code",
   "execution_count": 3,
   "id": "bab5e809",
   "metadata": {},
   "outputs": [],
   "source": [
    "import matplotlib.pyplot as plt\n",
    "import numpy as np\n",
    "import pandas as pd\n",
    "import faker"
   ]
  },
  {
   "cell_type": "code",
   "execution_count": 4,
   "id": "a8344aeb",
   "metadata": {},
   "outputs": [],
   "source": [
    "#第一小题 "
   ]
  },
  {
   "cell_type": "code",
   "execution_count": 5,
   "id": "beb9b582",
   "metadata": {},
   "outputs": [],
   "source": [
    "stid = ['202021' + str(i).zfill(2) + str(j).zfill(2) for i in range(1, 6) for j in range(1, 46)] #构建学号\n",
    "\n",
    "clname = ['电信科20-' + str(i) for i in range(1, 6) for j in range(45)] #构建班级\n",
    "\n",
    "fak = faker.Faker('zh_cn')\n",
    "name = [fak.name() for i in range(225)]  #构建姓名\n",
    "\n",
    "grade = np.random.normal(75, 8, size=(225, 5)) \n",
    "df = pd.DataFrame(data=grade, columns=[\"高等数学\", \"英语\", \"python\", \"普通物理\", \"科学导论\"]).astype(np.int64) #正态分布生成成绩"
   ]
  },
  {
   "cell_type": "code",
   "execution_count": 6,
   "id": "e73129db",
   "metadata": {},
   "outputs": [],
   "source": [
    "#第二小题"
   ]
  },
  {
   "cell_type": "code",
   "execution_count": 7,
   "id": "6753d2cb",
   "metadata": {},
   "outputs": [],
   "source": [
    "df['学号'] = stid\n",
    "df['姓名'] = name\n",
    "df['班级'] = clname\n",
    "\n",
    "df = df.set_index('学号')\n",
    "name = df[['班级', '姓名']]\n",
    "df = pd.merge(name, df, on='学号', how='inner')\n",
    "df.drop(axis=1, columns=['班级_y', '姓名_y'], inplace=True)\n",
    "df.rename(columns={'班级_x': '班级', '姓名_x': '姓名'}, inplace=True)  #把班级，姓名调换至前两列中\n",
    "\n",
    "df.to_csv(\"0901.csv\", encoding='gbk')  #保存为csv格式，需要注意编码问题转换gbk\n",
    "df.to_excel(\"0901.xlsx\")   #保存为.xlsx格式"
   ]
  },
  {
   "cell_type": "code",
   "execution_count": 8,
   "id": "a3c996a7",
   "metadata": {},
   "outputs": [],
   "source": [
    "#第三小题"
   ]
  },
  {
   "cell_type": "code",
   "execution_count": 9,
   "id": "e7505e6e",
   "metadata": {},
   "outputs": [
    {
     "name": "stdout",
     "output_type": "stream",
     "text": [
      "高等数学      98.0\n",
      "英语        99.0\n",
      "python    90.0\n",
      "普通物理      96.0\n",
      "科学导论      97.0\n",
      "Name: max, dtype: float64\n",
      "高等数学      56.0\n",
      "英语        51.0\n",
      "python    55.0\n",
      "普通物理      53.0\n",
      "科学导论      51.0\n",
      "Name: min, dtype: float64\n",
      "高等数学      74.631111\n",
      "英语        74.480000\n",
      "python    74.426667\n",
      "普通物理      74.675556\n",
      "科学导论      73.706667\n",
      "Name: mean, dtype: float64\n"
     ]
    }
   ],
   "source": [
    "tj = df.describe()\n",
    "print(tj.loc['max'], tj.loc['min'], tj.loc['mean'], sep='\\n')  #求出每门课程的最高分，最低分和平局分"
   ]
  },
  {
   "cell_type": "code",
   "execution_count": 10,
   "id": "0e4de339",
   "metadata": {},
   "outputs": [],
   "source": [
    "#第四小题"
   ]
  },
  {
   "cell_type": "code",
   "execution_count": 24,
   "id": "61b03fca",
   "metadata": {},
   "outputs": [
    {
     "name": "stdout",
     "output_type": "stream",
     "text": [
      "电信科20-1班高数的最高分为 86.0，最低分为 61.0\n",
      "电信科20-2班英语的平均分为74.47，方差为86.75\n",
      "电信科20-3班高数的最高分为 87.0，最低分为 56.0，英语的平均分为74.18，方差为88.15\n",
      "电信科20-4班普通物理的25%分数线为 68.0，50%分数线为 72.0，75%分数线为 81.0\n",
      "电信科20-5班学号为 2020210510 学生的相关信息为： 班级        电信科20-5\n",
      "姓名             丁坤\n",
      "高等数学           75\n",
      "英语             69\n",
      "python         77\n",
      "普通物理           87\n",
      "科学导论           54\n",
      "Name: 2020210510, dtype: object\n"
     ]
    }
   ],
   "source": [
    "#按照班级保存到五处\n",
    "dxk1 = df[df['班级'] == \"电信科20-1\"]\n",
    "dxk2 = df[df['班级'] == \"电信科20-2\"]\n",
    "dxk3 = df[df['班级'] == \"电信科20-3\"]\n",
    "dxk4 = df[df['班级'] == \"电信科20-4\"]\n",
    "dxk5 = df[df['班级'] == \"电信科20-5\"]\n",
    "\n",
    "#输出电信科20-1班的高数最高，最低分\n",
    "print(\"电信科20-1班高数的最高分为\", str(dxk1.describe().loc['max']['高等数学']) + \"，最低分为\", str(dxk1.describe().loc['min']['高等数学']))\n",
    "\n",
    "#输出电信科20-2班英语的均分和方差\n",
    "print(\"电信科20-2班英语的平均分为{:.2f}，方差为{:.2f}\".format(dxk2.describe().loc['mean']['英语'],dxk2[\"英语\"].var()))\n",
    "\n",
    "#输出电信科20-3班高数的最高，最低分，平均分和方差\n",
    "print(\"电信科20-3班高数的最高分为\", str(dxk3.describe().loc['max']['高等数学']) + \"，最低分为\", str(dxk3.describe().loc['min']['高等数学'])+\"，英语的平均分为{:.2f}，方差为{:.2f}\".format(dxk3.describe().loc['mean']['英语'],dxk3[\"英语\"].var()))\n",
    "\n",
    "#输出电信科20-4班的后25%，50%，75%的分数线\n",
    "print(\"电信科20-4班普通物理的25%分数线为\", str(dxk4.describe().loc['25%']['普通物理']) + \"，50%分数线为\", str(dxk4.describe().loc['50%']['普通物理'])+ \"，75%分数线为\", str(dxk4.describe().loc['75%']['普通物理']))\n",
    "\n",
    "#输出学号为2020210510学生的相关信息\n",
    "print(\"电信科20-5班学号为 2020210510 学生的相关信息为：\", df.loc['2020210510'])"
   ]
  },
  {
   "cell_type": "code",
   "execution_count": 12,
   "id": "93995e85",
   "metadata": {},
   "outputs": [],
   "source": [
    "#第五小题"
   ]
  },
  {
   "cell_type": "code",
   "execution_count": 13,
   "id": "2278931f",
   "metadata": {},
   "outputs": [],
   "source": [
    "#切片处理生成电信科20-3班和电信科20-4班的数据集\n",
    "df3=df[90:135]\n",
    "df4=df[135:180]\n",
    "\n",
    "#保存为xlsx文件\n",
    "df3.to_excel(\"电信科20-3（合并前）.xlsx\")\n",
    "df4.to_excel(\"电信科20-4.xlsx\")\n",
    "\n",
    "#获得三班的班级，姓名和四班的五门科目成绩\n",
    "name1 = df3[['班级', '姓名']]\n",
    "score1= df4[[\"高等数学\", \"英语\", \"python\", \"普通物理\", \"科学导论\"]]\n",
    "\n",
    "#让两组数据合并\n",
    "j=[str(i) for i in range(1,46)]\n",
    "\n",
    "x=pd.DataFrame(name1)\n",
    "y=pd.DataFrame(score1)\n",
    "\n",
    "x.loc[:,'序号'] = j\n",
    "y.loc[:,'序号'] = j\n",
    "\n",
    "df2 = pd.merge(x, y, on='序号', how='inner')\n",
    "df2 = df2.set_index('序号')\n",
    "\n",
    "\n",
    "#转换为xlsx文件\n",
    "df2.to_excel(\"电信科20-3（合并后）.xlsx\") \n",
    "\n"
   ]
  },
  {
   "cell_type": "code",
   "execution_count": 14,
   "id": "071f6652",
   "metadata": {},
   "outputs": [],
   "source": [
    "#第六小题（提高题）"
   ]
  },
  {
   "cell_type": "code",
   "execution_count": 15,
   "id": "4f556ea2",
   "metadata": {},
   "outputs": [
    {
     "name": "stdout",
     "output_type": "stream",
     "text": [
      "(array([1., 0., 0., 0., 0., 0., 0., 2., 1., 1., 0., 2., 1., 4., 4., 3., 2.,\n",
      "       1., 3., 2., 3., 3., 0., 2., 0., 1., 2., 2., 3., 2.]), array([56.        , 57.03333333, 58.06666667, 59.1       , 60.13333333,\n",
      "       61.16666667, 62.2       , 63.23333333, 64.26666667, 65.3       ,\n",
      "       66.33333333, 67.36666667, 68.4       , 69.43333333, 70.46666667,\n",
      "       71.5       , 72.53333333, 73.56666667, 74.6       , 75.63333333,\n",
      "       76.66666667, 77.7       , 78.73333333, 79.76666667, 80.8       ,\n",
      "       81.83333333, 82.86666667, 83.9       , 84.93333333, 85.96666667,\n",
      "       87.        ]), <BarContainer object of 30 artists>)\n"
     ]
    },
    {
     "data": {
      "image/png": "[encoded data removed]",
      "text/plain": [
       "<Figure size 432x288 with 1 Axes>"
      ]
     },
     "metadata": {
      "needs_background": "light"
     },
     "output_type": "display_data"
    }
   ],
   "source": [
    "#生成高数的直方图\n",
    "print(plt.hist(dxk3['高等数学'],bins=30))"
   ]
  },
  {
   "cell_type": "code",
   "execution_count": 16,
   "id": "0879ed37",
   "metadata": {},
   "outputs": [
    {
     "name": "stdout",
     "output_type": "stream",
     "text": [
      "{'whiskers': [<matplotlib.lines.Line2D object at 0x000001C652771850>, <matplotlib.lines.Line2D object at 0x000001C652771BB0>], 'caps': [<matplotlib.lines.Line2D object at 0x000001C652771F10>, <matplotlib.lines.Line2D object at 0x000001C6527802B0>], 'boxes': [<matplotlib.lines.Line2D object at 0x000001C6527714F0>], 'medians': [<matplotlib.lines.Line2D object at 0x000001C652780610>], 'fliers': [<matplotlib.lines.Line2D object at 0x000001C652780970>], 'means': []}\n"
     ]
    },
    {
     "data": {
      "image/png": "[encoded data removed]",
      "text/plain": [
       "<Figure size 432x288 with 1 Axes>"
      ]
     },
     "metadata": {
      "needs_background": "light"
     },
     "output_type": "display_data"
    }
   ],
   "source": [
    "#生成英语箱线图\n",
    "print(plt.boxplot(dxk3['英语']))"
   ]
  }
 ],
 "metadata": {
  "kernelspec": {
   "display_name": "Python 3",
   "language": "python",
   "name": "python3"
  },
  "language_info": {
   "codemirror_mode": {
    "name": "ipython",
    "version": 3
   },
   "file_extension": ".py",
   "mimetype": "text/x-python",
   "name": "python",
   "nbconvert_exporter": "python",
   "pygments_lexer": "ipython3",
   "version": "3.9.1"
  }
 },
 "nbformat": 4,
 "nbformat_minor": 5
}
