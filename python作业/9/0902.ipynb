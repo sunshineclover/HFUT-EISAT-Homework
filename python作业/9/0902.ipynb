{
 "cells": [
  {
   "cell_type": "code",
   "execution_count": 1,
   "id": "788e19e6",
   "metadata": {},
   "outputs": [],
   "source": [
    "#姓名：洪祎麟 学号：2020217793  班级：电信科20-1班"
   ]
  },
  {
   "cell_type": "code",
   "execution_count": 2,
   "id": "b09e366e",
   "metadata": {},
   "outputs": [],
   "source": [
    "#第九次作业第二题"
   ]
  },
  {
   "cell_type": "code",
   "execution_count": 3,
   "id": "c1a02c91",
   "metadata": {},
   "outputs": [],
   "source": [
    "#准备工作"
   ]
  },
  {
   "cell_type": "code",
   "execution_count": 4,
   "id": "8f390b96",
   "metadata": {},
   "outputs": [],
   "source": [
    "import pandas as pd\n",
    "import numpy as np\n",
    "import matplotlib.pyplot as plt"
   ]
  },
  {
   "cell_type": "code",
   "execution_count": 5,
   "id": "7855885b",
   "metadata": {},
   "outputs": [],
   "source": [
    "def get_change(fort,n):\n",
    "    roud=pd.DataFrame({'pre_fort':fort[n],'lost':1}) #获取每人上次的财富值，且默认每次的支出为1元\n",
    "    gain=pd.Series(np.random.choice(fort.index,100)) #产生100个人（可以重复获得1元钱）\n",
    "    obtain=pd.DataFrame({'souru':gain.value_counts()}) #对获得收入的人进行次数统计\n",
    "    obtain.index.name='id' #将索引命名为id,以便之后和roud连接行程完整的表格\n",
    "    roud=pd.merge(roud,obtain,on='id',how=\"left\") #将索引为主键，以roud为主进行连接\n",
    "    roud.fillna(0,inplace=True) #将缺失值NaN更改为0，便于之后数据的同级\n",
    "    roud['souru']=roud['souru'].astype(int) #将数据类型更改为整数\n",
    "    fort[n+1]=roud['pre_fort']-roud['lost']+roud['souru'] #生成新的一次财富结果\n",
    "    return fort"
   ]
  },
  {
   "cell_type": "code",
   "execution_count": 6,
   "id": "d3676a46",
   "metadata": {},
   "outputs": [],
   "source": [
    "def get_f(n):\n",
    "    person_n=['person'+str(i) for i in range(1,101)] #生成100人编号\n",
    "    #以人编号为索引，生成每人100初始财富值\n",
    "    fort=pd.DataFrame({n:[100 for i in range(100)]},index=person_n) #生成每个人财富值都为100\n",
    "    fort.index.name='id' #指定索引的名称\n",
    "    return fort"
   ]
  },
  {
   "cell_type": "code",
   "execution_count": 7,
   "id": "64a601a2",
   "metadata": {},
   "outputs": [],
   "source": [
    "n=0\n",
    "fortune=get_f(n) #生成初始值\n",
    "for i in range(17000): #进行18-65岁的模拟\n",
    "    fortune=get_change(fortune,n)\n",
    "    n+=1\n",
    "forT=fortune.T  #转置，使得行数不超过限制能够正确放入.xlsx文件中\n",
    "forT.to_excel(\"forT1.xlsx\") #放入xlsx文件中\n"
   ]
  },
  {
   "cell_type": "code",
   "execution_count": 8,
   "id": "c171d886",
   "metadata": {},
   "outputs": [],
   "source": [
    "#第一小题 "
   ]
  },
  {
   "cell_type": "code",
   "execution_count": 9,
   "id": "65caa73d",
   "metadata": {
    "scrolled": true
   },
   "outputs": [
    {
     "name": "stdout",
     "output_type": "stream",
     "text": [
      "id\n",
      "person1      217\n",
      "person2      179\n",
      "person3       47\n",
      "person4      224\n",
      "person5       69\n",
      "            ... \n",
      "person96      15\n",
      "person97     148\n",
      "person98     -72\n",
      "person99     265\n",
      "person100     82\n",
      "Name: 17000, Length: 100, dtype: int64\n",
      "id\n",
      "person1     217\n",
      "person2     179\n",
      "person4     224\n",
      "person6     133\n",
      "person9     133\n",
      "person10    190\n",
      "person11    107\n",
      "person12    110\n",
      "person15    165\n",
      "person17    111\n",
      "person18    190\n",
      "person21    235\n",
      "person23    229\n",
      "person24    114\n",
      "person28    137\n",
      "person31    318\n",
      "person32    270\n",
      "person33    108\n",
      "person36    135\n",
      "person38    240\n",
      "person39    137\n",
      "person40    294\n",
      "person43    365\n",
      "person44    247\n",
      "person46    235\n",
      "person48    347\n",
      "person51    385\n",
      "person52    128\n",
      "person53    175\n",
      "person58    214\n",
      "person61    349\n",
      "person62    263\n",
      "person63    119\n",
      "person64    175\n",
      "person68    140\n",
      "person70    130\n",
      "person71    143\n",
      "person73    209\n",
      "person74    120\n",
      "person79    276\n",
      "person80    120\n",
      "person85    299\n",
      "person86    123\n",
      "person87    190\n",
      "person88    163\n",
      "person91    167\n",
      "person92    114\n",
      "person95    126\n",
      "person97    148\n",
      "person99    265\n",
      "Name: 17000, dtype: int64\n",
      "65岁时，钱大于100的人数为 50\n",
      "创业成功的几率为50%\n"
     ]
    }
   ],
   "source": [
    "#输出65 岁时，每人拥有的钱\n",
    "print(forT.loc[17000])\n",
    "\n",
    "#输出钱大于100的人\n",
    "print(forT.iloc[17000][forT.iloc[17000]>100] )\n",
    "\n",
    "#输出人数\n",
    "print(\"65岁时，钱大于100的人数为\",len(forT.iloc[17000][forT.iloc[17000]>100]))\n",
    "\n",
    "#输出创业成功的几率\n",
    "print(\"创业成功的几率为\"+str(len(forT.iloc[17000][forT.iloc[17000] > 100]))+\"%\")\n",
    "\n",
    "#由输出的结果可以明显看出，创业成功的概率并不高，只有大概百分之50的人能回本，\n",
    "#很多时候甚至不能回本。所以创业需谨慎！     "
   ]
  },
  {
   "cell_type": "code",
   "execution_count": 10,
   "id": "dce85741",
   "metadata": {},
   "outputs": [],
   "source": [
    "#第二小题 "
   ]
  },
  {
   "cell_type": "code",
   "execution_count": 11,
   "id": "e039602d",
   "metadata": {},
   "outputs": [],
   "source": [
    "#到40岁时，相当于过了（40-18）*365=8030天，则需要对8030行进行数据分析"
   ]
  },
  {
   "cell_type": "code",
   "execution_count": 12,
   "id": "e9be382b",
   "metadata": {},
   "outputs": [
    {
     "name": "stdout",
     "output_type": "stream",
     "text": [
      "id\n",
      "person5     -3\n",
      "person14   -11\n",
      "person16   -82\n",
      "person34   -33\n",
      "person56   -80\n",
      "person57   -26\n",
      "person72   -21\n",
      "person82   -16\n",
      "person89    -1\n",
      "person96   -14\n",
      "Name: 8030, dtype: int64\n"
     ]
    }
   ],
   "source": [
    "#输出钱小于0的人\n",
    "a=forT.iloc[8030][forT.iloc[8030]<0]\n",
    "print(a)"
   ]
  },
  {
   "cell_type": "code",
   "execution_count": 13,
   "id": "218869fc",
   "metadata": {},
   "outputs": [],
   "source": [
    "#第三小题 "
   ]
  },
  {
   "cell_type": "code",
   "execution_count": 14,
   "id": "27d8f153",
   "metadata": {},
   "outputs": [
    {
     "name": "stdout",
     "output_type": "stream",
     "text": [
      "17000    33\n",
      "Name: person34, dtype: int64\n",
      "17000    69\n",
      "Name: person5, dtype: int64\n",
      "17000    85\n",
      "Name: person56, dtype: int64\n",
      "17000    15\n",
      "Name: person96, dtype: int64\n"
     ]
    }
   ],
   "source": [
    "#输出40岁负债，65岁又不负债的人\n",
    "b=forT.iloc[8030][forT.iloc[8030]<0] & forT.iloc[17000][forT.iloc[17000]>0]\n",
    "b=b.where(b==True)\n",
    "b=b.dropna() #通过删除所有false，提取出所有满足条件的人\n",
    "lst1=list(b.index)\n",
    "for i in lst1:\n",
    "    print(forT.loc[17000:,i]) #输出其65岁的钱数"
   ]
  },
  {
   "cell_type": "code",
   "execution_count": 15,
   "id": "2a5a8083",
   "metadata": {},
   "outputs": [],
   "source": [
    "#输出40岁负债，65岁致富的人\n",
    "c=forT.iloc[8030][forT.iloc[8030]<0] & forT.iloc[17000][forT.iloc[17000]>100]\n",
    "c=c.where(c==True)\n",
    "c=c.dropna()  #通过删除所有false，提取出所有满足条件的人\n",
    "lst2=list(c.index)\n",
    "for i in lst2:\n",
    "    print(forT.loc[17000:,i])  #输出其65岁的钱数"
   ]
  },
  {
   "cell_type": "code",
   "execution_count": 16,
   "id": "342e0639",
   "metadata": {},
   "outputs": [
    {
     "name": "stdout",
     "output_type": "stream",
     "text": [
      "40岁以后创业，65岁不负债的概率为0.40\n",
      "40岁以后创业，65岁致富的概率为0.00\n"
     ]
    }
   ],
   "source": [
    "#分析\n",
    "print(\"40岁以后创业，65岁不负债的概率为{:.2f}\".format(len(b)/len(a)))\n",
    "print(\"40岁以后创业，65岁致富的概率为{:.2f}\".format(len(c)/len(a)))\n",
    "\n",
    "#由此可以看出，40岁以后创业成功的概率大约为4成左右，而想不止不亏本反而盈利很多，成功致富的概率更低"
   ]
  },
  {
   "cell_type": "code",
   "execution_count": 17,
   "id": "26f5811e",
   "metadata": {},
   "outputs": [],
   "source": [
    "#提高题\n",
    "#我们默认投资家为序号1-5 勤奋的人序号为6-15 懒惰的人序号为16-25 普通人序号为26-100"
   ]
  },
  {
   "cell_type": "code",
   "execution_count": 18,
   "id": "a83dedc0",
   "metadata": {},
   "outputs": [],
   "source": [
    "#根据题意，可以算出每种人获得钱的概率\n",
    "touzijia=0.012\n",
    "qinfenren=0.011\n",
    "putongren=0.01\n",
    "landuoren=0.008\n",
    "\n",
    "#并建立一个列表存储每种人挣得一块钱的概率\n",
    "lst1=[touzijia]*5+[qinfenren]*10+[landuoren]*10+[putongren]*75"
   ]
  },
  {
   "cell_type": "code",
   "execution_count": 19,
   "id": "8392505c",
   "metadata": {},
   "outputs": [],
   "source": [
    "#由于np.random.choice可增加参数\"p\"作为概率，因此把刚才生成的列表放入p参数中即可生成每种人的概率\n",
    "def get_change(fort,n):\n",
    "    roud=pd.DataFrame({'pre_fort':fort[n],'lost':1}) #每人上次的财富值及默认支出1元\n",
    "    gain=pd.Series(np.random.choice(fort.index,100,p=lst1)) #产生100个可重复随机获得1元钱的人 注意p参数改变了不同人的概率\n",
    "    obtain=pd.DataFrame({'souru':gain.value_counts()}) #对获得1元钱的人进行次数统计\n",
    "    obtain.index.name='id' #将索引命名为id,以便和roud连接\n",
    "    roud=pd.merge(roud,obtain,on='id',how=\"left\") #将索引为主键，以roud为主进行连接\n",
    "    roud.fillna(0,inplace=True) #将缺失值NaN更改为0\n",
    "    roud['souru']=roud['souru'].astype(int) #将数据类型更改为整数\n",
    "    fort[n+1]=roud['pre_fort']-roud['lost']+roud['souru'] #生成新的一次财富结果\n",
    "    return fort"
   ]
  },
  {
   "cell_type": "code",
   "execution_count": 20,
   "id": "45bd68f8",
   "metadata": {},
   "outputs": [],
   "source": [
    "n=0\n",
    "fortune=get_f(n)\n",
    "for i in range(17000):\n",
    "    fortune=get_change(fortune,n)\n",
    "    n+=1\n",
    "forT=fortune.T\n",
    "#将结果放入forT2.xlsx文件中\n",
    "forT.to_excel(\"forT2.xlsx\")"
   ]
  },
  {
   "cell_type": "code",
   "execution_count": 21,
   "id": "e90bf361",
   "metadata": {},
   "outputs": [
    {
     "name": "stdout",
     "output_type": "stream",
     "text": [
      "id\n",
      "person1    3375\n",
      "person2    3358\n",
      "person3    3411\n",
      "person4    3689\n",
      "person5    3671\n",
      "Name: 17000, dtype: int64\n"
     ]
    }
   ],
   "source": [
    "#输出65 岁时，每种人拥有的钱\n",
    "#1.金融投资家\n",
    "print(forT.iloc[17000,0:5])"
   ]
  },
  {
   "cell_type": "code",
   "execution_count": 22,
   "id": "9fb42d8b",
   "metadata": {},
   "outputs": [
    {
     "name": "stdout",
     "output_type": "stream",
     "text": [
      "id\n",
      "person6     1932\n",
      "person7     1758\n",
      "person8     1684\n",
      "person9     1793\n",
      "person10    2056\n",
      "person11    1829\n",
      "person12    1539\n",
      "person13    1788\n",
      "person14    1725\n",
      "person15    1695\n",
      "Name: 17000, dtype: int64\n"
     ]
    }
   ],
   "source": [
    "#2.勤奋的人\n",
    "print(forT.iloc[17000,5:15])"
   ]
  },
  {
   "cell_type": "code",
   "execution_count": 23,
   "id": "fff32d3d",
   "metadata": {},
   "outputs": [
    {
     "name": "stdout",
     "output_type": "stream",
     "text": [
      "id\n",
      "person16   -3191\n",
      "person17   -3099\n",
      "person18   -3301\n",
      "person19   -3257\n",
      "person20   -3440\n",
      "person21   -3212\n",
      "person22   -3267\n",
      "person23   -3332\n",
      "person24   -3271\n",
      "person25   -3313\n",
      "Name: 17000, dtype: int64\n"
     ]
    }
   ],
   "source": [
    "#3.懒惰的人\n",
    "print(forT.iloc[17000,15:25])"
   ]
  },
  {
   "cell_type": "code",
   "execution_count": 24,
   "id": "1261f658",
   "metadata": {},
   "outputs": [
    {
     "name": "stdout",
     "output_type": "stream",
     "text": [
      "id\n",
      "person26     192\n",
      "person27     146\n",
      "person28      13\n",
      "person29      83\n",
      "person30     207\n",
      "            ... \n",
      "person96     291\n",
      "person97     255\n",
      "person98     -16\n",
      "person99      58\n",
      "person100    243\n",
      "Name: 17000, Length: 75, dtype: int64\n"
     ]
    }
   ],
   "source": [
    "#4.普通人\n",
    "print(forT.iloc[17000,25:100])"
   ]
  },
  {
   "cell_type": "code",
   "execution_count": 25,
   "id": "f6ad4fd3",
   "metadata": {},
   "outputs": [],
   "source": [
    "#通过以上输出结果可以看出，普通人基本上过了这么多年赚不到什么大钱，基本只能保本甚至本钱都拿不到\n",
    "#金融投资家各个都能致富，而且能翻本三十多倍\n",
    "#做一个勤奋的人也能致富，虽然没有投资家赚得多，但也能翻20倍左右\n",
    "#做一个懒惰的人只会亏钱，每天懒惰一点点到了65岁后基本上就负债累累了\n",
    "#因此可以看出做人要勤奋，不能懒惰，否则赚不到什么大钱。要尽可能学习金融投资知识，争取获得更多收入。"
   ]
  }
 ],
 "metadata": {
  "kernelspec": {
   "display_name": "Python 3",
   "language": "python",
   "name": "python3"
  },
  "language_info": {
   "codemirror_mode": {
    "name": "ipython",
    "version": 3
   },
   "file_extension": ".py",
   "mimetype": "text/x-python",
   "name": "python",
   "nbconvert_exporter": "python",
   "pygments_lexer": "ipython3",
   "version": "3.9.1"
  }
 },
 "nbformat": 4,
 "nbformat_minor": 5
}
